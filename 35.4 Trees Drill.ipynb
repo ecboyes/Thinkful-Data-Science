{
 "cells": [
  {
   "cell_type": "markdown",
   "metadata": {},
   "source": [
    "# DRILL:\n",
    "\n",
    "Implement a binary tree, which is filled with 15 pieces of random data. Your job is to then write a program to traverse the tree using a breadth first traversal. If you want additional practice, try other forms of traversal."
   ]
  },
  {
   "cell_type": "code",
   "execution_count": 21,
   "metadata": {},
   "outputs": [],
   "source": [
    "import random"
   ]
  },
  {
   "cell_type": "code",
   "execution_count": 22,
   "metadata": {},
   "outputs": [],
   "source": [
    "data = [13, 14, 17, 9, 17, 16, 14, 7, 6, 19, 3, 13, 8, 11, 10]\n",
    "\n",
    "random_nums = [random.randrange(0,20) for i in range(15)]"
   ]
  },
  {
   "cell_type": "code",
   "execution_count": 23,
   "metadata": {},
   "outputs": [],
   "source": [
    "class Node:\n",
    "    def __init__(self, val):\n",
    "        self.left = None\n",
    "        self.right = None\n",
    "        self.val = val"
   ]
  },
  {
   "cell_type": "code",
   "execution_count": 29,
   "metadata": {},
   "outputs": [],
   "source": [
    "def add_node(node,value):\n",
    "    if value < node.val:\n",
    "        print(\"{} < {}: Moving down the left side of the node\".format(value,node.val))\n",
    "        if node.left == None:\n",
    "            print(\"Adding new node for {}\".format(value))\n",
    "            node.left = Node(value)\n",
    "        else:\n",
    "            print(\"{}: Checking next left child node\".format(value))\n",
    "            add_node(node.left,value)\n",
    "    else:\n",
    "        print(\"{} >= {}: Moving down the right side of the node\".format(value,node.val))\n",
    "        if node.right == None:\n",
    "            print(\"Adding new node for {}\".format(value))\n",
    "            node.right = Node(value)\n",
    "        else:\n",
    "            print(\"{}: Checking next right child node\".format(value))\n",
    "            add_node(node.right,value)"
   ]
  },
  {
   "cell_type": "code",
   "execution_count": 30,
   "metadata": {},
   "outputs": [],
   "source": [
    "def build_binary_tree(int_list):\n",
    "    int_list_copy = int_list.copy()\n",
    "    \n",
    "    if not int_list:\n",
    "        return int_list\n",
    "    root = Node(int_list_copy.pop(0))\n",
    "    print(\"Value of root node is: {}\".format(root.val))\n",
    "    \n",
    "# Build the root node using the first item of the list.\n",
    "    for i in int_list_copy:\n",
    "        add_node(root, i)\n",
    "    return root"
   ]
  },
  {
   "cell_type": "code",
   "execution_count": 31,
   "metadata": {
    "scrolled": true
   },
   "outputs": [
    {
     "name": "stdout",
     "output_type": "stream",
     "text": [
      "Value of root node is: 13\n",
      "14 >= 13: Moving down the right side of the node\n",
      "Adding new node for 14\n",
      "17 >= 13: Moving down the right side of the node\n",
      "17: Checking next right child node\n",
      "17 >= 14: Moving down the right side of the node\n",
      "Adding new node for 17\n",
      "9 < 13: Moving down the left side of the node\n",
      "Adding new node for 9\n",
      "17 >= 13: Moving down the right side of the node\n",
      "17: Checking next right child node\n",
      "17 >= 14: Moving down the right side of the node\n",
      "17: Checking next right child node\n",
      "17 >= 17: Moving down the right side of the node\n",
      "Adding new node for 17\n",
      "16 >= 13: Moving down the right side of the node\n",
      "16: Checking next right child node\n",
      "16 >= 14: Moving down the right side of the node\n",
      "16: Checking next right child node\n",
      "16 < 17: Moving down the left side of the node\n",
      "Adding new node for 16\n",
      "14 >= 13: Moving down the right side of the node\n",
      "14: Checking next right child node\n",
      "14 >= 14: Moving down the right side of the node\n",
      "14: Checking next right child node\n",
      "14 < 17: Moving down the left side of the node\n",
      "14: Checking next left child node\n",
      "14 < 16: Moving down the left side of the node\n",
      "Adding new node for 14\n",
      "7 < 13: Moving down the left side of the node\n",
      "7: Checking next left child node\n",
      "7 < 9: Moving down the left side of the node\n",
      "Adding new node for 7\n",
      "6 < 13: Moving down the left side of the node\n",
      "6: Checking next left child node\n",
      "6 < 9: Moving down the left side of the node\n",
      "6: Checking next left child node\n",
      "6 < 7: Moving down the left side of the node\n",
      "Adding new node for 6\n",
      "19 >= 13: Moving down the right side of the node\n",
      "19: Checking next right child node\n",
      "19 >= 14: Moving down the right side of the node\n",
      "19: Checking next right child node\n",
      "19 >= 17: Moving down the right side of the node\n",
      "19: Checking next right child node\n",
      "19 >= 17: Moving down the right side of the node\n",
      "Adding new node for 19\n",
      "3 < 13: Moving down the left side of the node\n",
      "3: Checking next left child node\n",
      "3 < 9: Moving down the left side of the node\n",
      "3: Checking next left child node\n",
      "3 < 7: Moving down the left side of the node\n",
      "3: Checking next left child node\n",
      "3 < 6: Moving down the left side of the node\n",
      "Adding new node for 3\n",
      "13 >= 13: Moving down the right side of the node\n",
      "13: Checking next right child node\n",
      "13 < 14: Moving down the left side of the node\n",
      "Adding new node for 13\n",
      "8 < 13: Moving down the left side of the node\n",
      "8: Checking next left child node\n",
      "8 < 9: Moving down the left side of the node\n",
      "8: Checking next left child node\n",
      "8 >= 7: Moving down the right side of the node\n",
      "Adding new node for 8\n",
      "11 < 13: Moving down the left side of the node\n",
      "11: Checking next left child node\n",
      "11 >= 9: Moving down the right side of the node\n",
      "Adding new node for 11\n",
      "10 < 13: Moving down the left side of the node\n",
      "10: Checking next left child node\n",
      "10 >= 9: Moving down the right side of the node\n",
      "10: Checking next right child node\n",
      "10 < 11: Moving down the left side of the node\n",
      "Adding new node for 10\n"
     ]
    }
   ],
   "source": [
    "binary_tree = build_binary_tree(data)"
   ]
  },
  {
   "cell_type": "code",
   "execution_count": 32,
   "metadata": {},
   "outputs": [],
   "source": [
    "def breadth_first(binary_tree):\n",
    "    node_list = [binary_tree]\n",
    "    while node_list:\n",
    "        this_node = node_list.pop(0)\n",
    "        print(this_node.val)\n",
    "        if this_node.left:\n",
    "            node_list.append(this_node.left)\n",
    "        if this_node.right:\n",
    "            node_list.append(this_node.right)"
   ]
  },
  {
   "cell_type": "code",
   "execution_count": 33,
   "metadata": {},
   "outputs": [
    {
     "name": "stdout",
     "output_type": "stream",
     "text": [
      "13\n",
      "9\n",
      "14\n",
      "7\n",
      "11\n",
      "13\n",
      "17\n",
      "6\n",
      "8\n",
      "10\n",
      "16\n",
      "17\n",
      "3\n",
      "14\n",
      "19\n"
     ]
    }
   ],
   "source": [
    "breadth_first(binary_tree)"
   ]
  },
  {
   "cell_type": "markdown",
   "metadata": {},
   "source": [
    "### Bonus: Depth-first."
   ]
  },
  {
   "cell_type": "code",
   "execution_count": 34,
   "metadata": {},
   "outputs": [],
   "source": [
    "def depth_first(binary_tree):\n",
    "    print(binary_tree.val)\n",
    "    if binary_tree.left:\n",
    "        depth_first(binary_tree.left)\n",
    "    if binary_tree.right:\n",
    "        depth_first(binary_tree.right)"
   ]
  },
  {
   "cell_type": "code",
   "execution_count": 35,
   "metadata": {
    "scrolled": true
   },
   "outputs": [
    {
     "name": "stdout",
     "output_type": "stream",
     "text": [
      "13\n",
      "9\n",
      "7\n",
      "6\n",
      "3\n",
      "8\n",
      "11\n",
      "10\n",
      "14\n",
      "13\n",
      "17\n",
      "16\n",
      "14\n",
      "17\n",
      "19\n"
     ]
    }
   ],
   "source": [
    "depth_first(binary_tree)"
   ]
  },
  {
   "cell_type": "code",
   "execution_count": null,
   "metadata": {},
   "outputs": [],
   "source": []
  }
 ],
 "metadata": {
  "kernelspec": {
   "display_name": "Python 3",
   "language": "python",
   "name": "python3"
  },
  "language_info": {
   "codemirror_mode": {
    "name": "ipython",
    "version": 3
   },
   "file_extension": ".py",
   "mimetype": "text/x-python",
   "name": "python",
   "nbconvert_exporter": "python",
   "pygments_lexer": "ipython3",
   "version": "3.7.2"
  }
 },
 "nbformat": 4,
 "nbformat_minor": 2
}

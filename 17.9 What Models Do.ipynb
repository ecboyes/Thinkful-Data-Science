{
 "cells": [
  {
   "cell_type": "code",
   "execution_count": null,
   "metadata": {},
   "outputs": [],
   "source": []
  },
  {
   "cell_type": "markdown",
   "metadata": {},
   "source": [
    "### 1. Try to model the result of a coin toss. In your model, include any features that you think important in explaining the result. Discuss with your mentor about the pros and cons of adding too many features into your model."
   ]
  },
  {
   "cell_type": "markdown",
   "metadata": {},
   "source": [
    "Assume that the coin is a fair coin.\n",
    "\n",
    "Some features that could help explain the result:\n",
    "1. The surface the coin is landing on\n",
    "    -  Is it sticky? Hard? Soft? At an angle or flat? Rubber or wood?\n",
    "2. How high and at what velocity the coin is tossed\n",
    "3. The angle to the landing surface to which the coin is tossed\n",
    "4. The weight and surface area of the coin\n",
    "5. Weather conditions such as wind or rain\n",
    "6. Friction of the hand and the air\n",
    "\n",
    "The more features you add to your model, the more experiments/trials you will have to do, and the more data you will have to collect. This could also be a pro because more data often means more accurate results, but more features will invoke the 'curse of dimensionality'."
   ]
  },
  {
   "cell_type": "markdown",
   "metadata": {},
   "source": [
    "### 2. If you ever used Netflix, you should already have realized that it provides some recommendations for you to watch. In data science, this is an example of the so-called recommendations systems. Read this nontechnical blog post of Netflix about how they model their recommendations systems. Then, derive the features they use in their recommendations engines and discuss what else can be incorporated into this model."
   ]
  },
  {
   "cell_type": "markdown",
   "metadata": {},
   "source": [
    "- Viewing history\n",
    "- How a person rated content\n",
    "- Other members with similar tastes and preferences on theservice \n",
    "- Information about the titles, such as their genre, categories, actors, release year, etc.\n",
    "- The time of day a person watches\n",
    "- The devices a person watches Netflix on\n",
    "- How long a person watches\n",
    "\n",
    "Some other factors that could be incorporated are:\n",
    "- Your geographical location of where you watch\n",
    "- Other streaming services you use on the same device\n",
    "- The data your device gathers from searches and other data inputs\n",
    "- Age and other demographic data\n",
    "- Netflix search history\n"
   ]
  },
  {
   "cell_type": "code",
   "execution_count": null,
   "metadata": {},
   "outputs": [],
   "source": []
  }
 ],
 "metadata": {
  "kernelspec": {
   "display_name": "Python 3",
   "language": "python",
   "name": "python3"
  },
  "language_info": {
   "codemirror_mode": {
    "name": "ipython",
    "version": 3
   },
   "file_extension": ".py",
   "mimetype": "text/x-python",
   "name": "python",
   "nbconvert_exporter": "python",
   "pygments_lexer": "ipython3",
   "version": "3.7.2"
  }
 },
 "nbformat": 4,
 "nbformat_minor": 2
}

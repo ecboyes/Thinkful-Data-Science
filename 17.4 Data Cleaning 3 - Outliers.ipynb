{
 "cells": [
  {
   "cell_type": "code",
   "execution_count": 1,
   "metadata": {},
   "outputs": [],
   "source": [
    "import pandas as pd\n",
    "import numpy as np\n",
    "import seaborn as sns\n",
    "from sqlalchemy import create_engine\n",
    "import warnings\n",
    "import matplotlib.pyplot as plt\n",
    "\n",
    "warnings.filterwarnings('ignore')\n",
    "postgres_user = 'dsbc_student'\n",
    "postgres_pw = '7*.8G9QH21'\n",
    "postgres_host = '142.93.121.174'\n",
    "postgres_port = '5432'\n",
    "postgres_db = 'useducation'\n",
    "\n",
    "engine = create_engine('postgresql://{}:{}@{}:{}/{}'.format(\n",
    "    postgres_user, postgres_pw, postgres_host, postgres_port, postgres_db))\n",
    "\n",
    "useducation_df = pd.read_sql_query('select * from useducation',con=engine)\n",
    "\n",
    "# no need for an open connection, \n",
    "# as we're only doing a single query\n",
    "engine.dispose()"
   ]
  },
  {
   "cell_type": "code",
   "execution_count": 4,
   "metadata": {},
   "outputs": [],
   "source": [
    "# First interpolate the data\n",
    "\n",
    "fill_list = [\"ENROLL\", \"TOTAL_REVENUE\", \"FEDERAL_REVENUE\",\n",
    "             \"STATE_REVENUE\", \"LOCAL_REVENUE\", \"TOTAL_EXPENDITURE\",\n",
    "             \"INSTRUCTION_EXPENDITURE\", \"SUPPORT_SERVICES_EXPENDITURE\",\n",
    "             \"OTHER_EXPENDITURE\", \"CAPITAL_OUTLAY_EXPENDITURE\", \"GRADES_PK_G\",\n",
    "             \"GRADES_KG_G\", \"GRADES_4_G\", \"GRADES_8_G\", \"GRADES_12_G\", \"GRADES_1_8_G\",\n",
    "             \"GRADES_9_12_G\", \"GRADES_ALL_G\"]\n",
    "\n",
    "states = useducation_df[\"STATE\"].unique()\n",
    "\n",
    "for state in states:\n",
    "    useducation_df.loc[useducation_df[\"STATE\"] == state, fill_list] = useducation_df.loc[useducation_df[\"STATE\"] == state, fill_list].interpolate()\n",
    "\n",
    "# Then drop the remaining null values\n",
    "useducation_df.dropna(inplace=True)"
   ]
  },
  {
   "cell_type": "code",
   "execution_count": 5,
   "metadata": {},
   "outputs": [
    {
     "name": "stdout",
     "output_type": "stream",
     "text": [
      "<class 'pandas.core.frame.DataFrame'>\n",
      "Int64Index: 466 entries, 209 to 1491\n",
      "Data columns (total 25 columns):\n",
      "PRIMARY_KEY                     466 non-null object\n",
      "STATE                           466 non-null object\n",
      "YEAR                            466 non-null int64\n",
      "ENROLL                          466 non-null float64\n",
      "TOTAL_REVENUE                   466 non-null float64\n",
      "FEDERAL_REVENUE                 466 non-null float64\n",
      "STATE_REVENUE                   466 non-null float64\n",
      "LOCAL_REVENUE                   466 non-null float64\n",
      "TOTAL_EXPENDITURE               466 non-null float64\n",
      "INSTRUCTION_EXPENDITURE         466 non-null float64\n",
      "SUPPORT_SERVICES_EXPENDITURE    466 non-null float64\n",
      "OTHER_EXPENDITURE               466 non-null float64\n",
      "CAPITAL_OUTLAY_EXPENDITURE      466 non-null float64\n",
      "GRADES_PK_G                     466 non-null float64\n",
      "GRADES_KG_G                     466 non-null float64\n",
      "GRADES_4_G                      466 non-null float64\n",
      "GRADES_8_G                      466 non-null float64\n",
      "GRADES_12_G                     466 non-null float64\n",
      "GRADES_1_8_G                    466 non-null float64\n",
      "GRADES_9_12_G                   466 non-null float64\n",
      "GRADES_ALL_G                    466 non-null float64\n",
      "AVG_MATH_4_SCORE                466 non-null float64\n",
      "AVG_MATH_8_SCORE                466 non-null float64\n",
      "AVG_READING_4_SCORE             466 non-null float64\n",
      "AVG_READING_8_SCORE             466 non-null float64\n",
      "dtypes: float64(22), int64(1), object(2)\n",
      "memory usage: 94.7+ KB\n"
     ]
    }
   ],
   "source": [
    "useducation_df.info()"
   ]
  },
  {
   "cell_type": "markdown",
   "metadata": {},
   "source": [
    "#### 1. Consider the two variables: TOTAL_REVENUE and TOTAL_EXPENDITURE. Do these variables have outlier values?"
   ]
  },
  {
   "cell_type": "code",
   "execution_count": 8,
   "metadata": {},
   "outputs": [
    {
     "data": {
      "image/png": "[encoded data removed]",
      "text/plain": [
       "<Figure size 1080x360 with 2 Axes>"
      ]
     },
     "metadata": {
      "needs_background": "light"
     },
     "output_type": "display_data"
    }
   ],
   "source": [
    "plt.figure(figsize = (15,5))\n",
    "\n",
    "plt.subplot(1,2,1)\n",
    "plt.boxplot(useducation_df[\"TOTAL_REVENUE\"], whis = 5)\n",
    "plt.title(\"Total Revenue\")\n",
    "\n",
    "plt.subplot(1,2,2)\n",
    "plt.boxplot(useducation_df[\"TOTAL_EXPENDITURE\"], whis = 5)\n",
    "plt.title(\"Total Expenditure\")\n",
    "plt.show()\n",
    "\n",
    "## Both variables have outlier values"
   ]
  },
  {
   "cell_type": "markdown",
   "metadata": {},
   "source": [
    "#### 2. If you detect outliers in the TOTAL_REVENUE and TOTAL_EXPENDITURE variables, apply the techniques you learned in this checkpoint to eliminate them and validate that there's no outlier values after you handled them."
   ]
  },
  {
   "cell_type": "code",
   "execution_count": 15,
   "metadata": {},
   "outputs": [
    {
     "data": {
      "image/png": "[encoded data removed]",
      "text/plain": [
       "<Figure size 1080x360 with 2 Axes>"
      ]
     },
     "metadata": {
      "needs_background": "light"
     },
     "output_type": "display_data"
    }
   ],
   "source": [
    "from scipy.stats.mstats import winsorize\n",
    "\n",
    "winsorized_revenue = winsorize(useducation_df[\"TOTAL_REVENUE\"], (0, 0.05))\n",
    "\n",
    "winsorized_expenditure = winsorize(useducation_df[\"TOTAL_EXPENDITURE\"], (0, 0.05))\n",
    "\n",
    "## Check to see if this technique eliminated the outliers\n",
    "\n",
    "plt.figure(figsize = (15,5))\n",
    "\n",
    "plt.subplot(1,2,1)\n",
    "plt.boxplot(winsorized_revenue, whis = 5)\n",
    "plt.title(\"Winsorised Total Revenue\")\n",
    "\n",
    "plt.subplot(1,2,2)\n",
    "plt.boxplot(winsorized_expenditure, whis = 5)\n",
    "plt.title(\"Winsorised Total Expenditure\")\n",
    "plt.show()\n"
   ]
  },
  {
   "cell_type": "markdown",
   "metadata": {},
   "source": [
    "#### 3. Create another variable by subtracting the original TOTAL_EXPENDITURE from TOTAL_REVENUE (before you eliminated the outliers). You can think of it as a kind of budget deficit in education. Do you find any outlier values in this new variable? If so, eliminate them using the technique you think most suitable."
   ]
  },
  {
   "cell_type": "code",
   "execution_count": 17,
   "metadata": {},
   "outputs": [
    {
     "data": {
      "text/plain": [
       "Text(0.5, 1.0, 'Budget Deficit')"
      ]
     },
     "execution_count": 17,
     "metadata": {},
     "output_type": "execute_result"
    },
    {
     "data": {
      "image/png": "[encoded data removed]",
      "text/plain": [
       "<Figure size 1080x360 with 1 Axes>"
      ]
     },
     "metadata": {
      "needs_background": "light"
     },
     "output_type": "display_data"
    }
   ],
   "source": [
    "budget_deficit = useducation_df[\"TOTAL_REVENUE\"] - useducation_df[\"TOTAL_EXPENDITURE\"]\n",
    "\n",
    "plt.figure(figsize = (15,5))\n",
    "plt.subplot(1,2,1)\n",
    "plt.boxplot(budget_deficit, whis = 5)\n",
    "plt.title(\"Budget Deficit\")"
   ]
  },
  {
   "cell_type": "code",
   "execution_count": 24,
   "metadata": {},
   "outputs": [
    {
     "data": {
      "text/plain": [
       "Text(0.5, 1.0, 'Winsorized Budget Deficit')"
      ]
     },
     "execution_count": 24,
     "metadata": {},
     "output_type": "execute_result"
    },
    {
     "data": {
      "image/png": "[encoded data removed]",
      "text/plain": [
       "<Figure size 1080x360 with 1 Axes>"
      ]
     },
     "metadata": {
      "needs_background": "light"
     },
     "output_type": "display_data"
    }
   ],
   "source": [
    "winsorized_deficit = winsorize(budget_deficit, (0.05, 0.05))\n",
    "\n",
    "plt.figure(figsize = (15,5))\n",
    "plt.subplot(1,2,1)\n",
    "plt.boxplot(winsorized_deficit, whis = 5)\n",
    "plt.title(\"Winsorized Budget Deficit\")"
   ]
  },
  {
   "cell_type": "markdown",
   "metadata": {},
   "source": [
    "#### 4. Now create another variable by subtracting the TOTAL_EXPENDITURE from TOTAL_REVENUE. This time, use the outlier eliminated versions of TOTAL_EXPENDITURE from TOTAL_REVENUE. In this newly created variable, can you find any outliers? If so, eliminate them."
   ]
  },
  {
   "cell_type": "code",
   "execution_count": 26,
   "metadata": {},
   "outputs": [
    {
     "data": {
      "text/plain": [
       "Text(0.5, 1.0, 'Pre-Winsorized Budget Deficit')"
      ]
     },
     "execution_count": 26,
     "metadata": {},
     "output_type": "execute_result"
    },
    {
     "data": {
      "image/png": "[encoded data removed]",
      "text/plain": [
       "<Figure size 1080x360 with 1 Axes>"
      ]
     },
     "metadata": {
      "needs_background": "light"
     },
     "output_type": "display_data"
    }
   ],
   "source": [
    "winsorized_deficit_before = winsorized_revenue - winsorized_expenditure\n",
    "\n",
    "plt.figure(figsize = (15,5))\n",
    "plt.subplot(1,2,1)\n",
    "plt.boxplot(winsorized_deficit_before, whis = 5)\n",
    "plt.title(\"Pre-Winsorized Budget Deficit\")"
   ]
  },
  {
   "cell_type": "code",
   "execution_count": 29,
   "metadata": {},
   "outputs": [
    {
     "data": {
      "text/plain": [
       "Text(0.5, 1.0, 'Re-Winsorized Budget Deficit')"
      ]
     },
     "execution_count": 29,
     "metadata": {},
     "output_type": "execute_result"
    },
    {
     "data": {
      "image/png": "[encoded data removed]",
      "text/plain": [
       "<Figure size 1080x360 with 1 Axes>"
      ]
     },
     "metadata": {
      "needs_background": "light"
     },
     "output_type": "display_data"
    }
   ],
   "source": [
    "rewinsorized_deficit = winsorize(winsorized_deficit_before, (0.1, 0.05))\n",
    "\n",
    "plt.figure(figsize = (15,5))\n",
    "plt.subplot(1,2,1)\n",
    "plt.boxplot(rewinsorized_deficit, whis = 5)\n",
    "plt.title(\"Re-Winsorized Budget Deficit\")"
   ]
  },
  {
   "cell_type": "markdown",
   "metadata": {},
   "source": [
    "#### 5. Compare some basic descriptive statistics of the budget variables you end up with in the 3rd and the 4th questions. Do you see any differences?"
   ]
  },
  {
   "cell_type": "code",
   "execution_count": 37,
   "metadata": {},
   "outputs": [
    {
     "name": "stdout",
     "output_type": "stream",
     "text": [
      "-58733.01287553648 -51370.62875536481\n",
      "340934.4172407685 299790.12178862427\n"
     ]
    }
   ],
   "source": [
    "print(winsorized_deficit.mean(), rewinsorized_deficit.mean())\n",
    "\n",
    "print(winsorized_deficit.std(), rewinsorized_deficit.std())"
   ]
  },
  {
   "cell_type": "markdown",
   "metadata": {},
   "source": [
    "#### 6. If our variable of interest is the budget deficit variable, which method do you think is the appropriate in dealing with the outliers in this variable: the method in the 3rd question or the one in the 4th question?"
   ]
  },
  {
   "cell_type": "markdown",
   "metadata": {},
   "source": [
    "The method in the third question would be best because you only have to winsorize at the end, instead of winsorizing both variables and the difference between the variables."
   ]
  },
  {
   "cell_type": "code",
   "execution_count": null,
   "metadata": {},
   "outputs": [],
   "source": []
  }
 ],
 "metadata": {
  "kernelspec": {
   "display_name": "Python 3",
   "language": "python",
   "name": "python3"
  },
  "language_info": {
   "codemirror_mode": {
    "name": "ipython",
    "version": 3
   },
   "file_extension": ".py",
   "mimetype": "text/x-python",
   "name": "python",
   "nbconvert_exporter": "python",
   "pygments_lexer": "ipython3",
   "version": "3.7.2"
  }
 },
 "nbformat": 4,
 "nbformat_minor": 2
}

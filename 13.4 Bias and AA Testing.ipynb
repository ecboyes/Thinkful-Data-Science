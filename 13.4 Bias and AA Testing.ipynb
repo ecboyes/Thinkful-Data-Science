{
 "cells": [
  {
   "cell_type": "markdown",
   "metadata": {},
   "source": [
    "For each of the following scenarios, call out the potential biases in the proposed experiment. Do your best to try to discover not only the bias, but the initial design. There is plenty of room for interpretation here, so make sure to state what assumptions you're making."
   ]
  },
  {
   "cell_type": "markdown",
   "metadata": {},
   "source": [
    "##### 1. You're testing advertising emails for a bathing suit company and you test one version of the email in February and the other in May.\n",
    "\n",
    "People are less likely to be looking at or buying bathing suits in February than in May because it is cold in most places in February and warming up and approaching summer and vacation season in May. It will also depend on the geographic location the advertisments are being sent to and how warm it is (or ever gets) at the moment the advertisement is sent. In this design you won't be able to tell if it was the change in the advertisement or the change in the weather that made people buy or not buy the swimsuits advertised. The age group, gender, and affordability of the product/socio-economic status of the targeted customers are also important factors to condsider."
   ]
  },
  {
   "cell_type": "markdown",
   "metadata": {},
   "source": [
    "##### 2. You open a clinic to treat anxiety and find that the people who visit show a higher rate of anxiety than the general population.\n",
    "\n",
    "This seems obvious...people who have anxiety are way more likely to visit an anxiety clinic than those who don't have anxiety. Other factors that may affect this study are geographic location of the clinic and surrounding area, quality/reputation of the clinic, age and gender of the people who visit, and co-morbid conditions of the people who visit."
   ]
  },
  {
   "cell_type": "markdown",
   "metadata": {},
   "source": [
    "#### 3. You launch a new ad billboard based campaign and see an increase in website visits in the first week.\n",
    "\n",
    "This study should consider what time of the year and place the billboard were installed in, any concurrent events or promotions that would affect visits to the website, and rate of website visits in the following weeks and weeks before going back far enough to see an overall trend."
   ]
  },
  {
   "cell_type": "markdown",
   "metadata": {},
   "source": [
    "##### 4. You launch a loyalty program but see no change in visits in the first week.\n",
    "\n",
    "You should consider how well the loyalty program was advertised, what you are selling and how sales relate to time of year and surrounding events (are you selling ice cream in January?), overall effectiveness of the promotion (is it worth it?), and changes in merchandise or price in your store."
   ]
  }
 ],
 "metadata": {
  "kernelspec": {
   "display_name": "Python 3",
   "language": "python",
   "name": "python3"
  },
  "language_info": {
   "codemirror_mode": {
    "name": "ipython",
    "version": 3
   },
   "file_extension": ".py",
   "mimetype": "text/x-python",
   "name": "python",
   "nbconvert_exporter": "python",
   "pygments_lexer": "ipython3",
   "version": "3.7.2"
  }
 },
 "nbformat": 4,
 "nbformat_minor": 2
}

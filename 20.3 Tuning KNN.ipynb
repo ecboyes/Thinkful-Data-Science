{
 "cells": [
  {
   "cell_type": "markdown",
   "metadata": {},
   "source": [
    "## Drill\n",
    "Let's say we work at a credit card company and we're trying to figure out if people are going to pay their bills on time. We have everyone's purchases, split into four main categories: groceries, dining out, utilities, and entertainment. What are some ways you might use KNN to create this model? What aspects of KNN would be useful? Write up your thoughts in submit a link below."
   ]
  },
  {
   "cell_type": "markdown",
   "metadata": {},
   "source": [
    "### Solution:\n",
    "Start by collecting all the data for people who paid their bills on time, and all the data for people who did not pay their bills on time. Note what percentage of the paid on time/not paid on time bill falls into each of the four main categories. Maybe people who spend the most on entertainment and dining out pay their bills on time less frequently than those who spend the most on groceries and utilities. We can use these data points to predict, given how much a person spends relative to the rest of their bill, who will likely pay thier bills on time, and who will not by using KNN. The data points that fall closest to the each result (paid on time or not paid on time) will thus fall into that result grouping accoring to KNN."
   ]
  },
  {
   "cell_type": "code",
   "execution_count": null,
   "metadata": {},
   "outputs": [],
   "source": []
  }
 ],
 "metadata": {
  "kernelspec": {
   "display_name": "Python 3",
   "language": "python",
   "name": "python3"
  },
  "language_info": {
   "codemirror_mode": {
    "name": "ipython",
    "version": 3
   },
   "file_extension": ".py",
   "mimetype": "text/x-python",
   "name": "python",
   "nbconvert_exporter": "python",
   "pygments_lexer": "ipython3",
   "version": "3.7.2"
  }
 },
 "nbformat": 4,
 "nbformat_minor": 2
}

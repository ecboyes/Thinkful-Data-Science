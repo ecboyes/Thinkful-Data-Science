{
 "cells": [
  {
   "cell_type": "markdown",
   "metadata": {},
   "source": [
    "1. **Two versions of something** whose effects will be compared. Typically one version is a \"control version,\" often already in use (or \"no intervention\"), and one is a \"test version,\" which has some changes from the control. That change is often called the treatment. If starting from scratch, however, you may have two different test versions to compare to each other.\n",
    "\n",
    "2. **A sample, divided into two groups**. Each sample should be selected so that it is similar to the population you want to understand. The groups should be similar to one another so that any differences between them can be attributed to seeing version A or version B and not something else. You also want the split of between A and B to be as random as possible.\n",
    "\n",
    "3. **A hypothesis.** Your hypothesis is what you expect to happen. For example, \"I expect the HTML email will achieve a higher open and conversion rate than the plain text email.\"\n",
    "\n",
    "4. **Outcome(s) of interest.** What you expect will change as a result of using version A or version B, and how you will measure that change. This means you have to decide on a _key metric_, which should capture the effect of your change and reflect the motivations for the test in the first place.\n",
    "\n",
    "5. **Other measured variables.** This includes information about the two groups that can be used to ensure they are similar, as well as secondary outcomes that are less important than the primary outcomes of interest but which might also change in response to using version A or version B.\n",
    "\n",
    "### For each of the following questions, outline how you could use an A/B test to find an answer. Be sure to identify all five key components of an A/B test we outlined above.\n",
    "\n",
    "1. Does a new supplement help people sleep better?\n",
    "\n",
    "2. Will new uniforms help a gym's business?\n",
    "\n",
    "3. Will a new homepage improve my online exotic pet rental business?\n",
    "\n",
    "4. If I put 'please read' in the email subject will more people read my emails?"
   ]
  },
  {
   "cell_type": "markdown",
   "metadata": {},
   "source": [
    "#### 1. Does a new supplement help people sleep better?\n",
    "\n",
    "- For this experiment, there will be two pills: one is the new supplement that may help people sleep better (test version), and the other is a sugar pill, the placebo (control version). The two pills have no discernable difference apart from testing their chemical make-up.\n",
    "- The sample of people who are selected for this study should be significantly large enough, say at least 300 people, and they should be randomly selected from a larger population of people who have reported sleep problems to a doctor in the last year or so, but have not had severe enough symptoms to visit a sleep specialist. The should all be of similar ages and all above the age of 21, so choosing an age range of 21-35, 36-55, 56-75 would be advisable. The effects of age on sleep should also be considered when selecting this sample. Each person will be given either a placebo pill or the sleep supplement pill and told they are taking a sleep supplement pill. They can record their amount of sleep/restfullness nightly on a predetermined scale or ideally they will each be given a sleep tracking device to attach to their body or bed somehow to record thier sleep\n",
    "- I expect the new sleep supplement will help some sleep slightly better and have no effect on others or a placebo effect on others.\n",
    "- I expect by using version A (group given sleeping supplement) those people will sleep better and I expect by using version B (group given a placebo pill) those people will have no change in their sleep quality. Doing a more in depth study of this pill and using scientific monitors will likely yield the most accurate result and we will best be able to tell if the pill actually helped patients sleep better or if they just imagined they slept better becuase of a placebo effect.\n",
    "- Other variables include age of patients, sleep disorders or history of poor sleep quality, other medical conditions, medications currently taken by patients that might have an effect on the supplement, external sleep conditions (comfy and quiet place to sleep vs uncomfortable and noisy place to sleep), etc."
   ]
  },
  {
   "cell_type": "markdown",
   "metadata": {},
   "source": [
    "#### 2. Will new uniforms help a gym's business?\n",
    "\n",
    "- Note the gym's business/revenue/other metrics with no change in uniform. Make sure there are no other promotions or other items that can be controlled that are in effect at the same time as the uniform study. Then note the gym's business/revenue/other metrics after all staff are given a new uniform and wear it daily for the same amount of time that the study that was conducted before the uniform change was done. Also give the current gym patrons a survey before and after the uniform change to help gauge customer satisfaction. Survey potential new customers at other gyms or workout places in the area such as local parks or running trails.\n",
    "- The two groups are the metrics and survey results before and after the uniform change\\\n",
    "- I expect that the gym will gain more patrons overall after the uniform change and that the current patrons will overall be more satisfied with their gym\n",
    "- The change will be measured in overall revenue, customer satifaction ratings, and number of members before and after the uniform switch.\n",
    "- Other variables could include better external advertising as an effect of the new uniforms, time of the year (seasonal), another local gym or workout place shuts down so patrons are forced to find a new gym in the area, new equipment or staff during the duration of the study, etc."
   ]
  },
  {
   "cell_type": "code",
   "execution_count": null,
   "metadata": {},
   "outputs": [],
   "source": []
  }
 ],
 "metadata": {
  "kernelspec": {
   "display_name": "Python 3",
   "language": "python",
   "name": "python3"
  },
  "language_info": {
   "codemirror_mode": {
    "name": "ipython",
    "version": 3
   },
   "file_extension": ".py",
   "mimetype": "text/x-python",
   "name": "python",
   "nbconvert_exporter": "python",
   "pygments_lexer": "ipython3",
   "version": "3.7.2"
  }
 },
 "nbformat": 4,
 "nbformat_minor": 2
}

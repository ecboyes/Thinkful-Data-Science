{
 "cells": [
  {
   "cell_type": "markdown",
   "metadata": {},
   "source": [
    "## Final Capstone Project Proposal"
   ]
  },
  {
   "cell_type": "markdown",
   "metadata": {},
   "source": [
    "#### The Problem\n",
    "The days of purchasing music through casettes, CDs, and even iTunes have ended with the advent of subscription streaming services like Spotify, Apple Music, Pandora, Amazon Music, and even YouTube. Now just about anyone can make music and introduce it on the world stage through streaming services like these, making the volume of new music being released higher and higher each day.\n",
    "\n",
    "How do we sort through all this new music? How do we discover new music? Most people know what artists they like and what genres they like, so grouping music into genres and providing suggestions for similar songs and artists can be incredibly helpful when navigating through the large volume of music provided by streaming services. This solution will attempt to categorize any song into its parent genre and further narrow these groupings by similar songs and artists."
   ]
  },
  {
   "cell_type": "markdown",
   "metadata": {},
   "source": [
    "### Goal and Milestones \n",
    "##### Project Milestones:\n",
    "- Load data\n",
    "- Data cleaning\n",
    "- Data exploration\n",
    "- Feature selection\n",
    "- Model selection\n",
    "- Model evaluation\n",
    "- Conclusions\n",
    "- Project Presentation\n",
    "\n",
    "##### Goal:\n",
    "Provide song recommendation system based on genre and artist/song similarity."
   ]
  },
  {
   "cell_type": "markdown",
   "metadata": {},
   "source": [
    "##### The Data\n",
    "I first came across this data set, called the Million Song Database, through the UCI machine learning website. It was described as a subset of 10,000 songs randomly selected from the larger database of 1 million songs, a volume of data I decided was too big for me to take on at this time. \n",
    "\n",
    "I quickly realized that this set of data did not seem to have all the information it claimed to have, so I went straight to [the source](http://millionsongdataset.com/pages/getting-dataset/#subset) and was able to find a more comprensive csv with all variables and column headers. I was able to further enhance the data by using the same subset that included a variable for the Billboard top 100 hits that categorized each song into a top 100 hit or not (1 or 0). I merged this dataset with the one I had already found by joining on artist name and song title."
   ]
  },
  {
   "cell_type": "markdown",
   "metadata": {},
   "source": [
    "##### Solution Techniques\n",
    "First I will clean the data and determine how to handle missing values and outliers. I might disregard rows with missing values, or I might use interpolation or imputation. Same case for dealing with outliers, I might use\n",
    "winsorize or log transformation techniques.\n",
    "\n",
    "There are over 50 variables so I might use dimensionality reduction or drop irrelevant or unnecessary columns, or both. I will likely use PCA to reduce these variables into a more manageable number so they can be clustered appropriately.\n",
    "\n",
    "For feature selection I am planning on using a correlation matrix and clustering to create new features.\n",
    "\n",
    "To draw from my knowledge I gained from my specialization topic, I will use a mixed effects model to create a regression model for each participant (genre) in the dataset and an overall regression model that fits across all genres and incorporates the individual participants’ (genres') models. If we had more data, we might try to do this for artists as well, but each artist has only roughly 5 songs, which is not enough data to form a regression model.\n",
    "\n",
    "Other models I will try and evaluate include Random Forest modeling, Tree Ensemble using XGBoost (Extreme Gradient Boosting), and logistic regression. \n",
    "\n",
    "To assess my model I will use metrics such as mean squared error (MSE), F-test, and R-squared as well as an AUC  curve (a performance measurement for classification problems) and accompanying score. "
   ]
  },
  {
   "cell_type": "markdown",
   "metadata": {},
   "source": [
    "##### Possible Challenges\n",
    "I think there might be some issues surrounding missing data such as song hotness and year because quite a few of these values are missing, and I think these variables could be important in finding our solution. I also think the test and train sets might cause a problem because each artist should have songs in the test and train sets, but there are just too many songs for me to go through and select some from each artist for each set. I will at least look at class imbalances for genre to make sure there is a good split for each genre."
   ]
  }
 ],
 "metadata": {
  "kernelspec": {
   "display_name": "Python 3",
   "language": "python",
   "name": "python3"
  },
  "language_info": {
   "codemirror_mode": {
    "name": "ipython",
    "version": 3
   },
   "file_extension": ".py",
   "mimetype": "text/x-python",
   "name": "python",
   "nbconvert_exporter": "python",
   "pygments_lexer": "ipython3",
   "version": "3.7.2"
  }
 },
 "nbformat": 4,
 "nbformat_minor": 2
}

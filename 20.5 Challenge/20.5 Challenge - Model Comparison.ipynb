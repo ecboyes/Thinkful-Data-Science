{
 "cells": [
  {
   "cell_type": "markdown",
   "metadata": {},
   "source": [
    "Here let's work on regression. Find a data set and build a KNN Regression and an OLS regression. Compare the two. How similar are they? Do they miss in different ways?\n",
    "\n",
    "Create a Jupyter notebook with your models. At the end in a markdown cell write a few paragraphs to describe the models' behaviors and why you favor one model or the other. Try to determine whether there is a situation where you would change your mind, or whether one is unambiguously better than the other. Lastly, try to note what it is about the data that causes the better model to outperform the weaker model. Submit a link to your notebook below."
   ]
  },
  {
   "cell_type": "code",
   "execution_count": 36,
   "metadata": {},
   "outputs": [
    {
     "data": {
      "text/html": [
       "<div>\n",
       "<style scoped>\n",
       "    .dataframe tbody tr th:only-of-type {\n",
       "        vertical-align: middle;\n",
       "    }\n",
       "\n",
       "    .dataframe tbody tr th {\n",
       "        vertical-align: top;\n",
       "    }\n",
       "\n",
       "    .dataframe thead th {\n",
       "        text-align: right;\n",
       "    }\n",
       "</style>\n",
       "<table border=\"1\" class=\"dataframe\">\n",
       "  <thead>\n",
       "    <tr style=\"text-align: right;\">\n",
       "      <th></th>\n",
       "      <th>Item_Identifier</th>\n",
       "      <th>Item_Weight</th>\n",
       "      <th>Item_Fat_Content</th>\n",
       "      <th>Item_Visibility</th>\n",
       "      <th>Item_Type</th>\n",
       "      <th>Item_MRP</th>\n",
       "      <th>Outlet_Identifier</th>\n",
       "      <th>Outlet_Establishment_Year</th>\n",
       "      <th>Outlet_Size</th>\n",
       "      <th>Outlet_Location_Type</th>\n",
       "      <th>Outlet_Type</th>\n",
       "      <th>Item_Outlet_Sales</th>\n",
       "    </tr>\n",
       "  </thead>\n",
       "  <tbody>\n",
       "    <tr>\n",
       "      <th>0</th>\n",
       "      <td>FDA15</td>\n",
       "      <td>9.30</td>\n",
       "      <td>Low Fat</td>\n",
       "      <td>0.016047</td>\n",
       "      <td>Dairy</td>\n",
       "      <td>249.8092</td>\n",
       "      <td>OUT049</td>\n",
       "      <td>1999</td>\n",
       "      <td>Medium</td>\n",
       "      <td>Tier 1</td>\n",
       "      <td>Supermarket Type1</td>\n",
       "      <td>3735.1380</td>\n",
       "    </tr>\n",
       "    <tr>\n",
       "      <th>1</th>\n",
       "      <td>DRC01</td>\n",
       "      <td>5.92</td>\n",
       "      <td>Regular</td>\n",
       "      <td>0.019278</td>\n",
       "      <td>Soft Drinks</td>\n",
       "      <td>48.2692</td>\n",
       "      <td>OUT018</td>\n",
       "      <td>2009</td>\n",
       "      <td>Medium</td>\n",
       "      <td>Tier 3</td>\n",
       "      <td>Supermarket Type2</td>\n",
       "      <td>443.4228</td>\n",
       "    </tr>\n",
       "    <tr>\n",
       "      <th>2</th>\n",
       "      <td>FDN15</td>\n",
       "      <td>17.50</td>\n",
       "      <td>Low Fat</td>\n",
       "      <td>0.016760</td>\n",
       "      <td>Meat</td>\n",
       "      <td>141.6180</td>\n",
       "      <td>OUT049</td>\n",
       "      <td>1999</td>\n",
       "      <td>Medium</td>\n",
       "      <td>Tier 1</td>\n",
       "      <td>Supermarket Type1</td>\n",
       "      <td>2097.2700</td>\n",
       "    </tr>\n",
       "    <tr>\n",
       "      <th>3</th>\n",
       "      <td>FDX07</td>\n",
       "      <td>19.20</td>\n",
       "      <td>Regular</td>\n",
       "      <td>0.000000</td>\n",
       "      <td>Fruits and Vegetables</td>\n",
       "      <td>182.0950</td>\n",
       "      <td>OUT010</td>\n",
       "      <td>1998</td>\n",
       "      <td>NaN</td>\n",
       "      <td>Tier 3</td>\n",
       "      <td>Grocery Store</td>\n",
       "      <td>732.3800</td>\n",
       "    </tr>\n",
       "    <tr>\n",
       "      <th>4</th>\n",
       "      <td>NCD19</td>\n",
       "      <td>8.93</td>\n",
       "      <td>Low Fat</td>\n",
       "      <td>0.000000</td>\n",
       "      <td>Household</td>\n",
       "      <td>53.8614</td>\n",
       "      <td>OUT013</td>\n",
       "      <td>1987</td>\n",
       "      <td>High</td>\n",
       "      <td>Tier 3</td>\n",
       "      <td>Supermarket Type1</td>\n",
       "      <td>994.7052</td>\n",
       "    </tr>\n",
       "  </tbody>\n",
       "</table>\n",
       "</div>"
      ],
      "text/plain": [
       "  Item_Identifier  Item_Weight Item_Fat_Content  Item_Visibility  \\\n",
       "0           FDA15         9.30          Low Fat         0.016047   \n",
       "1           DRC01         5.92          Regular         0.019278   \n",
       "2           FDN15        17.50          Low Fat         0.016760   \n",
       "3           FDX07        19.20          Regular         0.000000   \n",
       "4           NCD19         8.93          Low Fat         0.000000   \n",
       "\n",
       "               Item_Type  Item_MRP Outlet_Identifier  \\\n",
       "0                  Dairy  249.8092            OUT049   \n",
       "1            Soft Drinks   48.2692            OUT018   \n",
       "2                   Meat  141.6180            OUT049   \n",
       "3  Fruits and Vegetables  182.0950            OUT010   \n",
       "4              Household   53.8614            OUT013   \n",
       "\n",
       "   Outlet_Establishment_Year Outlet_Size Outlet_Location_Type  \\\n",
       "0                       1999      Medium               Tier 1   \n",
       "1                       2009      Medium               Tier 3   \n",
       "2                       1999      Medium               Tier 1   \n",
       "3                       1998         NaN               Tier 3   \n",
       "4                       1987        High               Tier 3   \n",
       "\n",
       "         Outlet_Type  Item_Outlet_Sales  \n",
       "0  Supermarket Type1          3735.1380  \n",
       "1  Supermarket Type2           443.4228  \n",
       "2  Supermarket Type1          2097.2700  \n",
       "3      Grocery Store           732.3800  \n",
       "4  Supermarket Type1           994.7052  "
      ]
     },
     "execution_count": 36,
     "metadata": {},
     "output_type": "execute_result"
    }
   ],
   "source": [
    "import pandas as pd\n",
    "import numpy as np\n",
    "from sklearn import neighbors\n",
    "from sklearn.metrics import mean_squared_error \n",
    "from math import sqrt\n",
    "import matplotlib.pyplot as plt\n",
    "from sklearn.linear_model import LinearRegression, Ridge, Lasso, ElasticNet\n",
    "from sklearn.model_selection import train_test_split, cross_val_score\n",
    "from sklearn.neighbors import KNeighborsRegressor\n",
    "from sklearn.preprocessing import StandardScaler\n",
    "from statsmodels.tools.eval_measures import rmse\n",
    "import statsmodels.api as sm\n",
    "\n",
    "%matplotlib inline\n",
    "\n",
    "df = pd.read_csv('Train.csv')\n",
    "df2 = pd.read_csv('Test.csv')\n",
    "df.head()"
   ]
  },
  {
   "cell_type": "markdown",
   "metadata": {},
   "source": [
    "## Data Cleaning"
   ]
  },
  {
   "cell_type": "code",
   "execution_count": 19,
   "metadata": {},
   "outputs": [
    {
     "data": {
      "text/plain": [
       "Item_Identifier                 0\n",
       "Item_Weight                  1463\n",
       "Item_Fat_Content                0\n",
       "Item_Visibility                 0\n",
       "Item_Type                       0\n",
       "Item_MRP                        0\n",
       "Outlet_Identifier               0\n",
       "Outlet_Establishment_Year       0\n",
       "Outlet_Size                  2410\n",
       "Outlet_Location_Type            0\n",
       "Outlet_Type                     0\n",
       "Item_Outlet_Sales               0\n",
       "dtype: int64"
      ]
     },
     "execution_count": 19,
     "metadata": {},
     "output_type": "execute_result"
    }
   ],
   "source": [
    "df.isnull().sum()"
   ]
  },
  {
   "cell_type": "code",
   "execution_count": 20,
   "metadata": {},
   "outputs": [
    {
     "data": {
      "text/plain": [
       "Item_Identifier               object\n",
       "Item_Weight                  float64\n",
       "Item_Fat_Content              object\n",
       "Item_Visibility              float64\n",
       "Item_Type                     object\n",
       "Item_MRP                     float64\n",
       "Outlet_Identifier             object\n",
       "Outlet_Establishment_Year      int64\n",
       "Outlet_Size                   object\n",
       "Outlet_Location_Type          object\n",
       "Outlet_Type                   object\n",
       "Item_Outlet_Sales            float64\n",
       "dtype: object"
      ]
     },
     "execution_count": 20,
     "metadata": {},
     "output_type": "execute_result"
    }
   ],
   "source": [
    "df.dtypes"
   ]
  },
  {
   "cell_type": "code",
   "execution_count": 21,
   "metadata": {},
   "outputs": [],
   "source": [
    "# Only missing values in Item_weight and Outlet_size, we'll impute these values\n",
    "mean = df['Item_Weight'].mean()\n",
    "df['Item_Weight'].fillna(mean, inplace =True)\n",
    "\n",
    "mode = df['Outlet_Size'].mode()\n",
    "df['Outlet_Size'].fillna(mode[0], inplace =True)"
   ]
  },
  {
   "cell_type": "code",
   "execution_count": 22,
   "metadata": {},
   "outputs": [],
   "source": [
    "# Dropping the ID columns because we don't need them and dealing with categorical variables\n",
    "df.drop(['Item_Identifier', 'Outlet_Identifier'], axis=1, inplace=True)\n",
    "df = pd.get_dummies(df)"
   ]
  },
  {
   "cell_type": "code",
   "execution_count": 31,
   "metadata": {},
   "outputs": [
    {
     "name": "stdout",
     "output_type": "stream",
     "text": [
      "The number of observations in training: 5966\n",
      "The number of observations in test: 2557\n"
     ]
    }
   ],
   "source": [
    "# Creating train and test sets\n",
    "from sklearn.model_selection import train_test_split\n",
    "from sklearn.preprocessing import StandardScaler\n",
    "\n",
    "train , test = train_test_split(df, test_size = 0.3, random_state = 38)\n",
    "\n",
    "x_train = train.drop('Item_Outlet_Sales', axis=1)\n",
    "y_train = train['Item_Outlet_Sales']\n",
    "\n",
    "x_test = test.drop('Item_Outlet_Sales', axis = 1)\n",
    "y_test = test['Item_Outlet_Sales']\n",
    "\n",
    "\n",
    "print('The number of observations in training: {}'.format(len(x_train)))\n",
    "print('The number of observations in test: {}'.format(len(x_test)))\n",
    "\n",
    "s = StandardScaler()\n",
    "x_train = s.fit_transform(x_train)\n",
    "x_test = s.transform(x_test)"
   ]
  },
  {
   "cell_type": "code",
   "execution_count": 24,
   "metadata": {},
   "outputs": [],
   "source": [
    "# Data pre-processing\n",
    "# Scaling the variables\n",
    "from sklearn.preprocessing import MinMaxScaler\n",
    "scaler = MinMaxScaler(feature_range=(0, 1))\n",
    "\n",
    "x_train_scaled = scaler.fit_transform(x_train)\n",
    "x_train = pd.DataFrame(x_train_scaled)\n",
    "\n",
    "x_test_scaled = scaler.fit_transform(x_test)\n",
    "x_test = pd.DataFrame(x_test_scaled)"
   ]
  },
  {
   "cell_type": "code",
   "execution_count": 46,
   "metadata": {},
   "outputs": [
    {
     "name": "stdout",
     "output_type": "stream",
     "text": [
      "2181.288913575032\n"
     ]
    }
   ],
   "source": [
    "mean = df['Item_Outlet_Sales'].mean()\n",
    "print(mean)"
   ]
  },
  {
   "cell_type": "markdown",
   "metadata": {},
   "source": [
    "## KNN Regression"
   ]
  },
  {
   "cell_type": "code",
   "execution_count": 25,
   "metadata": {},
   "outputs": [
    {
     "name": "stdout",
     "output_type": "stream",
     "text": [
      "RMSE value for k=  1 is: 1606.920363448656\n",
      "RMSE value for k=  2 is: 1386.692815092366\n",
      "RMSE value for k=  3 is: 1297.3073124376238\n",
      "RMSE value for k=  4 is: 1261.690739530833\n",
      "RMSE value for k=  5 is: 1242.3315702366492\n",
      "RMSE value for k=  6 is: 1240.4309903483347\n",
      "RMSE value for k=  7 is: 1236.9293203992202\n",
      "RMSE value for k=  8 is: 1235.653342578943\n",
      "RMSE value for k=  9 is: 1230.634392752585\n",
      "RMSE value for k=  10 is: 1229.1447405012216\n",
      "RMSE value for k=  11 is: 1230.3182560633516\n",
      "RMSE value for k=  12 is: 1229.7188625254898\n",
      "RMSE value for k=  13 is: 1232.8089646922463\n",
      "RMSE value for k=  14 is: 1233.6463920058168\n",
      "RMSE value for k=  15 is: 1237.629899604465\n",
      "RMSE value for k=  16 is: 1239.6916705371348\n",
      "RMSE value for k=  17 is: 1245.1487534436483\n",
      "RMSE value for k=  18 is: 1250.8149998437586\n",
      "RMSE value for k=  19 is: 1256.5739212528106\n",
      "RMSE value for k=  20 is: 1262.8770651829927\n"
     ]
    }
   ],
   "source": [
    "# Checking the error rate for different k values\n",
    "rmse_val = [] \n",
    "for K in range(20):\n",
    "    K = K+1\n",
    "    model = neighbors.KNeighborsRegressor(n_neighbors = K)\n",
    "\n",
    "    model.fit(x_train, y_train)  #fit the model\n",
    "    pred=model.predict(x_test) #make prediction on test set\n",
    "    error = sqrt(mean_squared_error(y_test,pred)) #calculate rmse\n",
    "    rmse_val.append(error) #store rmse values\n",
    "    print('RMSE value for k= ' , K , 'is:', error)"
   ]
  },
  {
   "cell_type": "code",
   "execution_count": 26,
   "metadata": {},
   "outputs": [
    {
     "data": {
      "text/plain": [
       "<matplotlib.axes._subplots.AxesSubplot at 0x11ec7a898>"
      ]
     },
     "execution_count": 26,
     "metadata": {},
     "output_type": "execute_result"
    },
    {
     "data": {
      "image/png": "[encoded data removed]",
      "text/plain": [
       "<Figure size 432x288 with 1 Axes>"
      ]
     },
     "metadata": {
      "needs_background": "light"
     },
     "output_type": "display_data"
    }
   ],
   "source": [
    "# Plotting the rmse values against k values, elbow method\n",
    "curve = pd.DataFrame(rmse_val)\n",
    "curve.plot()\n",
    "# Looks like the best value for K is around 8"
   ]
  },
  {
   "cell_type": "code",
   "execution_count": 27,
   "metadata": {},
   "outputs": [
    {
     "name": "stdout",
     "output_type": "stream",
     "text": [
      "     Item_Identifier  Item_Weight Item_Fat_Content  Item_Visibility  \\\n",
      "0              FDW58       20.750          Low Fat         0.007565   \n",
      "1              FDW14        8.300              reg         0.038428   \n",
      "2              NCN55       14.600          Low Fat         0.099575   \n",
      "3              FDQ58        7.315          Low Fat         0.015388   \n",
      "4              FDY38          NaN          Regular         0.118599   \n",
      "5              FDH56        9.800          Regular         0.063817   \n",
      "6              FDL48       19.350          Regular         0.082602   \n",
      "7              FDC48          NaN          Low Fat         0.015782   \n",
      "8              FDN33        6.305          Regular         0.123365   \n",
      "9              FDA36        5.985          Low Fat         0.005698   \n",
      "10             FDT44       16.600          Low Fat         0.103569   \n",
      "11             FDQ56        6.590          Low Fat         0.105811   \n",
      "12             NCC54          NaN          Low Fat         0.171079   \n",
      "13             FDU11        4.785          Low Fat         0.092738   \n",
      "14             DRL59       16.750               LF         0.021206   \n",
      "15             FDM24        6.135          Regular         0.079451   \n",
      "16             FDI57       19.850          Low Fat         0.054135   \n",
      "17             DRC12       17.850          Low Fat         0.037981   \n",
      "18             NCM42          NaN          Low Fat         0.028184   \n",
      "19             FDA46       13.600          Low Fat         0.196898   \n",
      "20             FDA31        7.100          Low Fat         0.109920   \n",
      "21             NCJ31       19.200          Low Fat         0.182619   \n",
      "22             FDG52       13.650               LF         0.065631   \n",
      "23             NCL19          NaN          Low Fat         0.027447   \n",
      "24             FDS10       19.200          Low Fat         0.035179   \n",
      "25             FDX22        6.785          Regular         0.038455   \n",
      "26             NCF19       13.000          Low Fat         0.035102   \n",
      "27             NCE06        5.825          Low Fat         0.091485   \n",
      "28             DRC27       13.800          Low Fat         0.058102   \n",
      "29             FDE21       12.800               LF         0.022940   \n",
      "...              ...          ...              ...              ...   \n",
      "5651           FDD23        9.500          Regular         0.048645   \n",
      "5652           FDP32        6.650          Low Fat         0.087847   \n",
      "5653           FDO31        6.760          Regular         0.028977   \n",
      "5654           FDQ57        7.275          Low Fat         0.000000   \n",
      "5655           FDX32          NaN          Regular         0.099375   \n",
      "5656           FDC39          NaN          Low Fat         0.158425   \n",
      "5657           FDU55       16.200          Low Fat         0.035911   \n",
      "5658           FDL45       15.600          Low Fat         0.037656   \n",
      "5659           DRK37        5.000          Low Fat         0.044073   \n",
      "5660           FDK22        9.800          Low Fat         0.026065   \n",
      "5661           DRG37          NaN          Low Fat         0.000000   \n",
      "5662           FDK22        9.800          Low Fat         0.026234   \n",
      "5663           DRH36       16.200          Low Fat         0.033516   \n",
      "5664           DRC36       13.000          Regular         0.045168   \n",
      "5665           DRE03          NaN          Low Fat         0.024110   \n",
      "5666           FDF34        9.300          Regular         0.014019   \n",
      "5667           FDZ22        9.395          Low Fat         0.045270   \n",
      "5668           FDC44       15.600          Low Fat         0.288892   \n",
      "5669           FDN31          NaN          Low Fat         0.072529   \n",
      "5670           FDO03       10.395          Regular         0.037092   \n",
      "5671           FDA01       15.000              reg         0.054463   \n",
      "5672           NCH42        6.860          Low Fat         0.036594   \n",
      "5673           FDF46        7.070          Low Fat         0.094053   \n",
      "5674           DRL35       15.700          Low Fat         0.030704   \n",
      "5675           FDW46       13.000          Regular         0.070411   \n",
      "5676           FDB58       10.500          Regular         0.013496   \n",
      "5677           FDD47        7.600          Regular         0.142991   \n",
      "5678           NCO17       10.000          Low Fat         0.073529   \n",
      "5679           FDJ26       15.300          Regular         0.000000   \n",
      "5680           FDU37        9.500          Regular         0.104720   \n",
      "\n",
      "                  Item_Type  Item_MRP Outlet_Identifier  \\\n",
      "0               Snack Foods  107.8622            OUT049   \n",
      "1                     Dairy   87.3198            OUT017   \n",
      "2                    Others  241.7538            OUT010   \n",
      "3               Snack Foods  155.0340            OUT017   \n",
      "4                     Dairy  234.2300            OUT027   \n",
      "5     Fruits and Vegetables  117.1492            OUT046   \n",
      "6              Baking Goods   50.1034            OUT018   \n",
      "7              Baking Goods   81.0592            OUT027   \n",
      "8               Snack Foods   95.7436            OUT045   \n",
      "9              Baking Goods  186.8924            OUT017   \n",
      "10    Fruits and Vegetables  118.3466            OUT017   \n",
      "11    Fruits and Vegetables   85.3908            OUT045   \n",
      "12       Health and Hygiene  240.4196            OUT019   \n",
      "13                   Breads  122.3098            OUT049   \n",
      "14              Hard Drinks   52.0298            OUT013   \n",
      "15             Baking Goods  151.6366            OUT049   \n",
      "16                  Seafood  198.7768            OUT045   \n",
      "17              Soft Drinks  192.2188            OUT018   \n",
      "18                Household  109.6912            OUT027   \n",
      "19              Snack Foods  193.7136            OUT010   \n",
      "20    Fruits and Vegetables  175.0080            OUT013   \n",
      "21                   Others  239.9196            OUT035   \n",
      "22             Frozen Foods   47.7402            OUT046   \n",
      "23                   Others  142.3470            OUT019   \n",
      "24              Snack Foods  180.7318            OUT035   \n",
      "25              Snack Foods  209.4928            OUT010   \n",
      "26                Household   47.6034            OUT035   \n",
      "27                Household  161.3894            OUT046   \n",
      "28                    Dairy  244.6802            OUT046   \n",
      "29    Fruits and Vegetables  116.5492            OUT035   \n",
      "...                     ...       ...               ...   \n",
      "5651          Starchy Foods  186.1898            OUT013   \n",
      "5652  Fruits and Vegetables  126.7678            OUT045   \n",
      "5653  Fruits and Vegetables   80.2960            OUT035   \n",
      "5654            Snack Foods  144.5760            OUT013   \n",
      "5655  Fruits and Vegetables  143.6786            OUT027   \n",
      "5656                  Dairy  207.8296            OUT027   \n",
      "5657  Fruits and Vegetables  261.3278            OUT046   \n",
      "5658            Snack Foods  123.4704            OUT013   \n",
      "5659            Soft Drinks  188.8530            OUT049   \n",
      "5660            Snack Foods  215.3850            OUT013   \n",
      "5661            Soft Drinks  155.7972            OUT027   \n",
      "5662            Snack Foods  214.3850            OUT017   \n",
      "5663            Soft Drinks   72.8696            OUT018   \n",
      "5664            Soft Drinks  173.4054            OUT018   \n",
      "5665                  Dairy   46.0718            OUT027   \n",
      "5666            Snack Foods  196.9084            OUT046   \n",
      "5667            Snack Foods   82.1250            OUT046   \n",
      "5668  Fruits and Vegetables  115.1518            OUT010   \n",
      "5669  Fruits and Vegetables  188.0530            OUT027   \n",
      "5670                   Meat  229.4352            OUT017   \n",
      "5671                 Canned   59.5904            OUT049   \n",
      "5672              Household  231.1010            OUT049   \n",
      "5673            Snack Foods  116.0834            OUT018   \n",
      "5674            Hard Drinks   43.2770            OUT046   \n",
      "5675            Snack Foods   63.4484            OUT049   \n",
      "5676            Snack Foods  141.3154            OUT046   \n",
      "5677          Starchy Foods  169.1448            OUT018   \n",
      "5678     Health and Hygiene  118.7440            OUT045   \n",
      "5679                 Canned  214.6218            OUT017   \n",
      "5680                 Canned   79.7960            OUT045   \n",
      "\n",
      "      Outlet_Establishment_Year Outlet_Size Outlet_Location_Type  \\\n",
      "0                          1999      Medium               Tier 1   \n",
      "1                          2007         NaN               Tier 2   \n",
      "2                          1998         NaN               Tier 3   \n",
      "3                          2007         NaN               Tier 2   \n",
      "4                          1985      Medium               Tier 3   \n",
      "5                          1997       Small               Tier 1   \n",
      "6                          2009      Medium               Tier 3   \n",
      "7                          1985      Medium               Tier 3   \n",
      "8                          2002         NaN               Tier 2   \n",
      "9                          2007         NaN               Tier 2   \n",
      "10                         2007         NaN               Tier 2   \n",
      "11                         2002         NaN               Tier 2   \n",
      "12                         1985       Small               Tier 1   \n",
      "13                         1999      Medium               Tier 1   \n",
      "14                         1987        High               Tier 3   \n",
      "15                         1999      Medium               Tier 1   \n",
      "16                         2002         NaN               Tier 2   \n",
      "17                         2009      Medium               Tier 3   \n",
      "18                         1985      Medium               Tier 3   \n",
      "19                         1998         NaN               Tier 3   \n",
      "20                         1987        High               Tier 3   \n",
      "21                         2004       Small               Tier 2   \n",
      "22                         1997       Small               Tier 1   \n",
      "23                         1985       Small               Tier 1   \n",
      "24                         2004       Small               Tier 2   \n",
      "25                         1998         NaN               Tier 3   \n",
      "26                         2004       Small               Tier 2   \n",
      "27                         1997       Small               Tier 1   \n",
      "28                         1997       Small               Tier 1   \n",
      "29                         2004       Small               Tier 2   \n",
      "...                         ...         ...                  ...   \n",
      "5651                       1987        High               Tier 3   \n",
      "5652                       2002         NaN               Tier 2   \n",
      "5653                       2004       Small               Tier 2   \n",
      "5654                       1987        High               Tier 3   \n",
      "5655                       1985      Medium               Tier 3   \n",
      "5656                       1985      Medium               Tier 3   \n",
      "5657                       1997       Small               Tier 1   \n",
      "5658                       1987        High               Tier 3   \n",
      "5659                       1999      Medium               Tier 1   \n",
      "5660                       1987        High               Tier 3   \n",
      "5661                       1985      Medium               Tier 3   \n",
      "5662                       2007         NaN               Tier 2   \n",
      "5663                       2009      Medium               Tier 3   \n",
      "5664                       2009      Medium               Tier 3   \n",
      "5665                       1985      Medium               Tier 3   \n",
      "5666                       1997       Small               Tier 1   \n",
      "5667                       1997       Small               Tier 1   \n",
      "5668                       1998         NaN               Tier 3   \n",
      "5669                       1985      Medium               Tier 3   \n",
      "5670                       2007         NaN               Tier 2   \n",
      "5671                       1999      Medium               Tier 1   \n",
      "5672                       1999      Medium               Tier 1   \n",
      "5673                       2009      Medium               Tier 3   \n",
      "5674                       1997       Small               Tier 1   \n",
      "5675                       1999      Medium               Tier 1   \n",
      "5676                       1997       Small               Tier 1   \n",
      "5677                       2009      Medium               Tier 3   \n",
      "5678                       2002         NaN               Tier 2   \n",
      "5679                       2007         NaN               Tier 2   \n",
      "5680                       2002         NaN               Tier 2   \n",
      "\n",
      "            Outlet_Type  Item_Outlet_Sales  \n",
      "0     Supermarket Type1         2204.66354  \n",
      "1     Supermarket Type1         1451.31084  \n",
      "2         Grocery Store          528.21243  \n",
      "3     Supermarket Type1         2473.11410  \n",
      "4     Supermarket Type3         4171.40345  \n",
      "5     Supermarket Type1         2635.76904  \n",
      "6     Supermarket Type2         2333.76216  \n",
      "7     Supermarket Type3         2086.08456  \n",
      "8     Supermarket Type1         1784.11097  \n",
      "9     Supermarket Type1         2236.95484  \n",
      "10    Supermarket Type1         2099.00108  \n",
      "11    Supermarket Type1         1351.44084  \n",
      "12        Grocery Store          385.63136  \n",
      "13    Supermarket Type1         2172.30566  \n",
      "14    Supermarket Type1         1507.53765  \n",
      "15    Supermarket Type1         2562.26472  \n",
      "16    Supermarket Type1         2357.03187  \n",
      "17    Supermarket Type2         2179.62946  \n",
      "18    Supermarket Type3         3214.58227  \n",
      "19        Grocery Store          457.27144  \n",
      "20    Supermarket Type1         3091.97520  \n",
      "21    Supermarket Type1         2573.78306  \n",
      "22    Supermarket Type1         1110.28808  \n",
      "23        Grocery Store          298.31169  \n",
      "24    Supermarket Type1         3086.64880  \n",
      "25        Grocery Store          311.02847  \n",
      "26    Supermarket Type1         1629.14602  \n",
      "27    Supermarket Type1         2357.26490  \n",
      "28    Supermarket Type1         2541.59163  \n",
      "29    Supermarket Type1         2184.95586  \n",
      "...                 ...                ...  \n",
      "5651  Supermarket Type1         2545.32011  \n",
      "5652  Supermarket Type1         2160.78732  \n",
      "5653  Supermarket Type1         1689.36763  \n",
      "5654  Supermarket Type1         2973.22977  \n",
      "5655  Supermarket Type3         4430.73255  \n",
      "5656  Supermarket Type3         4039.57505  \n",
      "5657  Supermarket Type1         2767.36441  \n",
      "5658  Supermarket Type1         2741.06531  \n",
      "5659  Supermarket Type1         2722.12330  \n",
      "5660  Supermarket Type1         3445.18210  \n",
      "5661  Supermarket Type3         3116.14374  \n",
      "5662  Supermarket Type1         4189.67966  \n",
      "5663  Supermarket Type2         2069.87233  \n",
      "5664  Supermarket Type2         1986.54746  \n",
      "5665  Supermarket Type3         3369.97999  \n",
      "5666  Supermarket Type1         2397.97857  \n",
      "5667  Supermarket Type1         2091.51083  \n",
      "5668      Grocery Store          320.58270  \n",
      "5669  Supermarket Type3         5100.89354  \n",
      "5670  Supermarket Type1         3183.98876  \n",
      "5671  Supermarket Type1         1261.89074  \n",
      "5672  Supermarket Type1         3456.96676  \n",
      "5673  Supermarket Type2         1768.83086  \n",
      "5674  Supermarket Type1         1998.79818  \n",
      "5675  Supermarket Type1         1426.11031  \n",
      "5676  Supermarket Type1         1942.13860  \n",
      "5677  Supermarket Type2         1997.43329  \n",
      "5678  Supermarket Type1         2131.82502  \n",
      "5679  Supermarket Type1         2921.46382  \n",
      "5680  Supermarket Type1         1799.85714  \n",
      "\n",
      "[5681 rows x 12 columns]\n"
     ]
    }
   ],
   "source": [
    "# Now the test data set\n",
    "\n",
    "test_df = pd.read_csv('Test.csv')\n",
    "df2['Item_Identifier'] = test_df['Item_Identifier']\n",
    "df2['Outlet_Identifier'] = test_df['Outlet_Identifier']\n",
    "\n",
    "# Pre-processing test dataset\n",
    "test_df.drop(['Item_Identifier', 'Outlet_Identifier'], axis=1, inplace=True)\n",
    "test_df['Item_Weight'].fillna(mean, inplace =True)\n",
    "test_df = pd.get_dummies(test_df)\n",
    "test_scaled = scaler.fit_transform(test_df)\n",
    "test_df = pd.DataFrame(test_scaled)\n",
    "\n",
    "# Predicting on the test set\n",
    "predict = model.predict(test_df)\n",
    "df2['Item_Outlet_Sales'] = predict\n",
    "print(df2)\n"
   ]
  },
  {
   "cell_type": "code",
   "execution_count": 28,
   "metadata": {},
   "outputs": [
    {
     "data": {
      "text/plain": [
       "{'n_neighbors': 9}"
      ]
     },
     "execution_count": 28,
     "metadata": {},
     "output_type": "execute_result"
    }
   ],
   "source": [
    "# Using gridsearch to find the best k value\n",
    "\n",
    "from sklearn.model_selection import GridSearchCV\n",
    "params = {'n_neighbors':[2,3,4,5,6,7,8,9]}\n",
    "\n",
    "knn = neighbors.KNeighborsRegressor()\n",
    "\n",
    "model = GridSearchCV(knn, params, cv=5)\n",
    "model.fit(x_train,y_train)\n",
    "model.best_params_"
   ]
  },
  {
   "cell_type": "code",
   "execution_count": null,
   "metadata": {},
   "outputs": [],
   "source": []
  },
  {
   "cell_type": "code",
   "execution_count": 45,
   "metadata": {},
   "outputs": [
    {
     "name": "stdout",
     "output_type": "stream",
     "text": [
      "knn regression with 9 neighbors\n",
      "Training R-squared : 0.46\n",
      "Training RMSE : 0\n",
      "Test R-squared: 0.38\n",
      "Test RMSE: 1274\n"
     ]
    }
   ],
   "source": [
    "from sklearn.neighbors import KNeighborsRegressor\n",
    "from sklearn.model_selection import cross_val_score\n",
    "knn_w = KNeighborsRegressor(n_neighbors=9, weights='distance')\n",
    "\n",
    "knn_w.fit(x_train, y_train)\n",
    "y_train_pred = knn_w.predict(x_train)\n",
    "y_test_pred = knn_w.predict(x_test)\n",
    "score_w_train = cross_val_score(knn_w, x_train, y_train, cv=5)\n",
    "score_w_test = cross_val_score(knn_w, x_test, y_test, cv=5)\n",
    "\n",
    "print('knn regression with 9 neighbors')\n",
    "print('Training R-squared : {:.2f}'.format(score_w_train.mean()))\n",
    "print('Training RMSE : {:.0f}'.format(rmse(y_train, y_train_pred)))\n",
    "print('Test R-squared: {:.2f}'.format(score_w_test.mean()))\n",
    "print('Test RMSE: {:.0f}'.format(rmse(y_test, y_test_pred)))"
   ]
  },
  {
   "cell_type": "markdown",
   "metadata": {},
   "source": [
    "#### Analysis\n",
    "The gap between the training R-squared and test R-squared is somewhat high and indicative of overfitting the training set. This could be managed some by adjusting the number of neighbors to decrease the overfitting. The RMSE here is closer to the mean price of an item, but not by much, and it is still far lower than the average. Given that the inclusion of more features is needed for both models and this dataset alone has more potential for categorical variables, I do not think that knn regression is the right choice."
   ]
  },
  {
   "cell_type": "markdown",
   "metadata": {},
   "source": [
    "## OLS Regression"
   ]
  },
  {
   "cell_type": "code",
   "execution_count": 41,
   "metadata": {},
   "outputs": [
    {
     "name": "stdout",
     "output_type": "stream",
     "text": [
      "The R-squared of the Training Set is: 0.57\n",
      "The RMSE of the Training Set is: 1115\n",
      "The R-squared of the Test Set is: 0.54\n",
      "The RMSE of the Test Set is: 1161\n"
     ]
    }
   ],
   "source": [
    "lreg = LinearRegression()\n",
    "lreg.fit(x_train, y_train)\n",
    "y_train_pred = lreg.predict(x_train)\n",
    "y_test_pred = lreg.predict(x_test)\n",
    "print('The R-squared of the Training Set is: {:0.2f}'.format(lreg.score(x_train, y_train)))\n",
    "print('The RMSE of the Training Set is: {:.0f}'.format(rmse(y_train, y_train_pred)))\n",
    "\n",
    "print('The R-squared of the Test Set is: {:0.2f}'.format(lreg.score(x_test, y_test)))\n",
    "print('The RMSE of the Test Set is: {:.0f}'.format(rmse(y_test, y_test_pred)))"
   ]
  },
  {
   "cell_type": "markdown",
   "metadata": {},
   "source": [
    "#### Analysis\n",
    "The gap between the training R-squared and test R-squared is relatively low, only 0.03 as compared to 0.12 in the KNN Regression. The results from the test set of OLS regression are much better than that of the KNN model with a better R-squared and lower RMSE. The RMSE of the test set is less than the average price of an item which shows that the model is performing alright, but it is significantly lower, so this prediction could be better. The RMSE of the test and the training sets are very close, so this is a good sign. If I were to choose one of the two methods shown here, I would pick OLS Regression over KNN."
   ]
  },
  {
   "cell_type": "code",
   "execution_count": null,
   "metadata": {},
   "outputs": [],
   "source": []
  }
 ],
 "metadata": {
  "kernelspec": {
   "display_name": "Python 3",
   "language": "python",
   "name": "python3"
  },
  "language_info": {
   "codemirror_mode": {
    "name": "ipython",
    "version": 3
   },
   "file_extension": ".py",
   "mimetype": "text/x-python",
   "name": "python",
   "nbconvert_exporter": "python",
   "pygments_lexer": "ipython3",
   "version": "3.7.2"
  }
 },
 "nbformat": 4,
 "nbformat_minor": 2
}
